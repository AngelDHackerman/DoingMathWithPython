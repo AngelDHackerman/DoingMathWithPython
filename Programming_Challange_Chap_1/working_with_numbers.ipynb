{
 "cells": [
  {
   "cell_type": "markdown",
   "metadata": {},
   "source": [
    "Factors of an Integer:"
   ]
  },
  {
   "cell_type": "code",
   "execution_count": null,
   "metadata": {},
   "outputs": [],
   "source": [
    "def is_factor(a, b):\n",
    "  if b % a == 0: \n",
    "    return True\n",
    "  else:\n",
    "    return False"
   ]
  },
  {
   "cell_type": "code",
   "execution_count": null,
   "metadata": {},
   "outputs": [],
   "source": [
    "is_factor(4, 1024)"
   ]
  },
  {
   "cell_type": "markdown",
   "metadata": {},
   "source": [
    "Using Rage method"
   ]
  },
  {
   "cell_type": "code",
   "execution_count": null,
   "metadata": {},
   "outputs": [],
   "source": [
    "for i in range(1, 4):\n",
    "  print(i)"
   ]
  },
  {
   "cell_type": "code",
   "execution_count": null,
   "metadata": {},
   "outputs": [],
   "source": [
    "for i in range(1, 10, 2):\n",
    "  print(i)"
   ]
  },
  {
   "cell_type": "markdown",
   "metadata": {},
   "source": [
    "Find the factors of an integer"
   ]
  },
  {
   "cell_type": "code",
   "execution_count": null,
   "metadata": {},
   "outputs": [],
   "source": [
    "def factors(b):\n",
    "  for i in range(1, b+1):\n",
    "    if b % i == 0:\n",
    "      print(i)\n",
    "\n",
    "if __name__ == '__main__':\n",
    "  b = input('Your Number Please: ')\n",
    "  b = float(b)\n",
    "\n",
    "if b > 0 and b.is_integer():\n",
    "  factors(int(b))\n",
    "else:\n",
    "  print('Please enter a positie integer')"
   ]
  },
  {
   "cell_type": "markdown",
   "metadata": {},
   "source": [
    "Number placeholers with .format()"
   ]
  },
  {
   "cell_type": "code",
   "execution_count": null,
   "metadata": {},
   "outputs": [],
   "source": [
    "item1 = 'apples'\n",
    "item2 = 'bananas'\n",
    "item3 = 'grapes'\n",
    "print('At the grocery store I bought some {0} and {1} and {2}'.format(item1, item2, item3))"
   ]
  },
  {
   "cell_type": "code",
   "execution_count": null,
   "metadata": {},
   "outputs": [],
   "source": [
    "print('Number 1: {0} Number 2: {1} '.format(4, 3.5843))"
   ]
  },
  {
   "cell_type": "markdown",
   "metadata": {},
   "source": [
    "Multiplication table printer"
   ]
  },
  {
   "cell_type": "code",
   "execution_count": null,
   "metadata": {},
   "outputs": [],
   "source": [
    "def multi_table(a):\n",
    "  for i in range(1, 11):\n",
    "    print('{0} x {1} = {2}'.format(a, i, a*i))\n",
    "\n",
    "if __name__ == \"__main__\":\n",
    "  a = input('Enter a number: ')\n",
    "  multi_table(float(a))"
   ]
  },
  {
   "cell_type": "markdown",
   "metadata": {},
   "source": [
    "Numbers with only 2 decimals"
   ]
  },
  {
   "cell_type": "code",
   "execution_count": null,
   "metadata": {},
   "outputs": [],
   "source": [
    "print('{0}'.format(1.235533))\n",
    "\n",
    "print('{0:.2f}'.format(1.235533))"
   ]
  },
  {
   "cell_type": "markdown",
   "metadata": {},
   "source": [
    "Unit converter: Miles to Kilometers:"
   ]
  },
  {
   "cell_type": "code",
   "execution_count": null,
   "metadata": {},
   "outputs": [],
   "source": [
    "def km_miles():\n",
    "  km = float(input('Enter distance in kilometers'))\n",
    "  miles = km / 1.609\n",
    "\n",
    "  print('Distance in miles: {0}'.format(miles))\n",
    "\n",
    "def miles_km():\n",
    "  miles = float(input('Enter distance in miles'))\n",
    "  km = miles * 1.609\n",
    "\n",
    "  print('Distance in kilometers: {0}'.format(km))\n",
    "\n",
    "if __name__ == '__main__':\n",
    "  print('1. Kilometers to Miles')\n",
    "  print('2. Miles to kilometers')\n",
    "  \n",
    "  choice = input('Which coversion would you like to do?: ')\n",
    "  if choice == '1':\n",
    "    km_miles()\n",
    "\n",
    "  if choice == '2':\n",
    "    miles_km()"
   ]
  },
  {
   "cell_type": "markdown",
   "metadata": {},
   "source": [
    "Funciones Cuadraticas"
   ]
  },
  {
   "cell_type": "code",
   "execution_count": 10,
   "metadata": {},
   "outputs": [
    {
     "name": "stdout",
     "output_type": "stream",
     "text": [
      "-1.0\n",
      "-1.0\n"
     ]
    }
   ],
   "source": [
    "a = 1\n",
    "b = 2\n",
    "c = 1\n",
    "\n",
    "D = (b**2 - 4*a*c)**.05\n",
    "x_1 = (-b + D)/(2*a)\n",
    "print(x_1)\n",
    "\n",
    "x_2 = (-b - D)/(2*a)\n",
    "print(x_2)\n"
   ]
  }
 ],
 "metadata": {
  "kernelspec": {
   "display_name": "base",
   "language": "python",
   "name": "python3"
  },
  "language_info": {
   "codemirror_mode": {
    "name": "ipython",
    "version": 3
   },
   "file_extension": ".py",
   "mimetype": "text/x-python",
   "name": "python",
   "nbconvert_exporter": "python",
   "pygments_lexer": "ipython3",
   "version": "3.11.7"
  }
 },
 "nbformat": 4,
 "nbformat_minor": 2
}
